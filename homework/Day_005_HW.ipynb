{
 "cells": [
  {
   "cell_type": "code",
   "execution_count": 1,
   "metadata": {},
   "outputs": [],
   "source": [
    "# Import 需要的套件\n",
    "import os\n",
    "import numpy as np\n",
    "import pandas as pd\n",
    "\n",
    "# 設定 data_path\n",
    "dir_data = '../data/'"
   ]
  },
  {
   "cell_type": "code",
   "execution_count": 2,
   "metadata": {},
   "outputs": [],
   "source": [
    "f_app_train = os.path.join(dir_data, 'application_train.csv')\n",
    "app_train = pd.read_csv(f_app_train)"
   ]
  },
  {
   "cell_type": "code",
   "execution_count": 3,
   "metadata": {},
   "outputs": [],
   "source": [
    "import matplotlib.pyplot as plt\n",
    "%matplotlib inline"
   ]
  },
  {
   "cell_type": "markdown",
   "metadata": {},
   "source": [
    "## 練習時間"
   ]
  },
  {
   "cell_type": "markdown",
   "metadata": {},
   "source": [
    "觀察有興趣的欄位的資料分佈，並嘗試找出有趣的訊息\n",
    "#### Eg\n",
    "- 計算任意欄位的平均數及標準差\n",
    "- 畫出任意欄位的[直方圖](https://zh.wikipedia.org/zh-tw/%E7%9B%B4%E6%96%B9%E5%9B%BE)\n",
    "\n",
    "### Hints:\n",
    "- [Descriptive Statistics For pandas Dataframe](https://chrisalbon.com/python/data_wrangling/pandas_dataframe_descriptive_stats/)\n",
    "- [pandas 中的繪圖函數](https://amaozhao.gitbooks.io/pandas-notebook/content/pandas%E4%B8%AD%E7%9A%84%E7%BB%98%E5%9B%BE%E5%87%BD%E6%95%B0.html)\n"
   ]
  },
  {
   "cell_type": "code",
   "execution_count": 4,
   "metadata": {},
   "outputs": [
    {
     "name": "stdout",
     "output_type": "stream",
     "text": [
      "The average of AMT_GOODS_PRICE is 538396.207\n",
      "The average of AMT_INCOME_TOTAL is 168797.919\n"
     ]
    }
   ],
   "source": [
    "#使用欄位:AMT_GOODS_PRICE, AMT_INCOME_TOTAL\n",
    "#算平均\n",
    "avg_GOODS_PRICE = app_train['AMT_GOODS_PRICE'].mean()\n",
    "avg_GOODS_INCOME = app_train['AMT_INCOME_TOTAL'].mean()\n",
    "print('The average of AMT_GOODS_PRICE is %.3f' %avg_GOODS_PRICE)\n",
    "print('The average of AMT_INCOME_TOTAL is %.3f' %avg_GOODS_INCOME)"
   ]
  },
  {
   "cell_type": "code",
   "execution_count": 5,
   "metadata": {},
   "outputs": [
    {
     "name": "stdout",
     "output_type": "stream",
     "text": [
      "The standard deviation of AMT_GOODS_PRICE is 369446.461\n",
      "The standard deviation of AMT_INCOME_TOTAL is 237123.146\n"
     ]
    }
   ],
   "source": [
    "#算標準差\n",
    "std_GOODS_PRICE = app_train['AMT_GOODS_PRICE'].std()\n",
    "std_GOODS_INCOME = app_train['AMT_INCOME_TOTAL'].std()\n",
    "print('The standard deviation of AMT_GOODS_PRICE is %.3f' %std_GOODS_PRICE)\n",
    "print('The standard deviation of AMT_INCOME_TOTAL is %.3f' %std_GOODS_INCOME)"
   ]
  },
  {
   "cell_type": "code",
   "execution_count": 6,
   "metadata": {},
   "outputs": [
    {
     "name": "stderr",
     "output_type": "stream",
     "text": [
      "D:\\Anaconda3\\lib\\site-packages\\numpy\\lib\\histograms.py:824: RuntimeWarning: invalid value encountered in greater_equal\n",
      "  keep = (tmp_a >= first_edge)\n",
      "D:\\Anaconda3\\lib\\site-packages\\numpy\\lib\\histograms.py:825: RuntimeWarning: invalid value encountered in less_equal\n",
      "  keep &= (tmp_a <= last_edge)\n"
     ]
    },
    {
     "data": {
      "text/plain": [
       "(array([7.9882e+04, 5.1830e+04, 6.8200e+04, 4.7061e+04, 2.7682e+04,\n",
       "        1.5976e+04, 9.3800e+03, 3.0490e+03, 2.8150e+03, 3.6000e+02,\n",
       "        1.3900e+02, 7.9400e+02, 1.2000e+01, 1.8000e+01, 5.0000e+00,\n",
       "        1.2000e+01, 4.0000e+00, 4.0000e+00, 2.0000e+00, 8.0000e+00]),\n",
       " array([  40500.,  240975.,  441450.,  641925.,  842400., 1042875.,\n",
       "        1243350., 1443825., 1644300., 1844775., 2045250., 2245725.,\n",
       "        2446200., 2646675., 2847150., 3047625., 3248100., 3448575.,\n",
       "        3649050., 3849525., 4050000.]),\n",
       " <a list of 20 Patch objects>)"
      ]
     },
     "execution_count": 6,
     "metadata": {},
     "output_type": "execute_result"
    },
    {
     "data": {
      "image/png": "[encoded data removed]",
      "text/plain": [
       "<Figure size 432x288 with 1 Axes>"
      ]
     },
     "metadata": {
      "needs_background": "light"
     },
     "output_type": "display_data"
    }
   ],
   "source": [
    "#直方圖 \n",
    "plt.hist(app_train['AMT_GOODS_PRICE'], bins = 20, edgecolor = 'k')"
   ]
  },
  {
   "cell_type": "code",
   "execution_count": null,
   "metadata": {},
   "outputs": [],
   "source": []
  },
  {
   "cell_type": "code",
   "execution_count": null,
   "metadata": {},
   "outputs": [],
   "source": []
  }
 ],
 "metadata": {
  "kernelspec": {
   "display_name": "Python 3",
   "language": "python",
   "name": "python3"
  },
  "language_info": {
   "codemirror_mode": {
    "name": "ipython",
    "version": 3
   },
   "file_extension": ".py",
   "mimetype": "text/x-python",
   "name": "python",
   "nbconvert_exporter": "python",
   "pygments_lexer": "ipython3",
   "version": "3.7.3"
  }
 },
 "nbformat": 4,
 "nbformat_minor": 2
}
